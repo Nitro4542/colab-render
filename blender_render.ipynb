{
  "cells": [
    {
      "attachments": {},
      "cell_type": "markdown",
      "metadata": {
        "id": "6EYxUEsyGlkw"
      },
      "source": [
        "# Setup\n",
        "**Make sure to read all instructions carefully!**\n",
        "\n",
        "0. [BEFORE UPLOADING ANYTHING](#before-uploading-anything)\n",
        "1. [Settings](#settings)\n",
        "2. [Check GPU compatibility](#check-gpu-compatibility)\n",
        "3. [Download and process .blend (or .zip) file](#download-and-proccess-blend-or-zip-file)\n",
        "4. [Download and configure Blender](#download-and-configure-blender)\n",
        "5. [Download rendered images as zip](#download-rendered-images-as-zip)\n",
        "\n",
        "After you are done configurating, go to Runtime > Run All (Ctrl + F9) and upload your files or have Google Drive authorised below.\n",
        "\n",
        "#### Useful links\n",
        "[GitHub repository](https://github.com/Nitro4542/colab-render)\n",
        "\n",
        "[Original GitHub repository by ynshung](https://github.com/ynshung/blender-colab)"
      ]
    },
    {
      "cell_type": "markdown",
      "metadata": {},
      "source": [
        "## BEFORE UPLOADING ANYTHING\n",
        "Make sure to include all ressources inside of your .blend file!\n",
        "\n",
        "`How do I do that?`\n",
        "\n",
        "For version 4.1:\n",
        "- Open your project in Blender\n",
        "- Go to: File -> External Data -> Pack Ressources\n",
        "- Go to: File -> External Data -> Pack Linked Libraries\n",
        "- Save your project"
      ]
    },
    {
      "cell_type": "markdown",
      "metadata": {},
      "source": [
        "## Settings\n",
        "\n",
        "### General settings\n",
        "\n",
        "* `Blender_version` : Version of Blender used to render the scene.\n",
        "\n",
        "___\n",
        "\n",
        "### Blend file settings\n",
        "\n",
        "* `upload_type` : Select the type of upload method. `gdrive_relative` pulls everything from the folder specified.\n",
        "\n",
        "\n",
        "> #### Upload type\n",
        ">\n",
        "> * `direct`: Upload your blender file in the next cell.\n",
        ">\n",
        "> * `google_drive`: The blender file will be downloaded directly from Google Drive. You need to specify the path to the blender/zip file at `drive_path`.\n",
        ">  \n",
        "> * `url`: Direct link to the blender file in `url_blend`.\n",
        ">\n",
        "> * `gdrive_relative`: The Google Drive folder specified at drive_path will be copied directly (as if it's a zipped file).\n",
        "\n",
        "\n",
        "* `drive_path` : Path to your blend/zip file relative to the root of your Google Drive if `google_drive` is selected. Must  state the file and its extension (.zip/.blend) **unless** `gdrive_relative` is selected.\n",
        "\n",
        "* `url_blend` : Specify the URL to the blend/zip file if `url` is selected.\n",
        "\n",
        "___\n",
        "\n",
        "### Animation settings\n",
        "\n",
        "* `animation` : Specify whether animation or still image is rendered. If **still image** is used, put the frame number in `start_frame`.\n",
        "\n",
        "* `start_frame, end_frame` : Specify the start and end frame for animation. You may put same value such as zero for both input to set the default frame in the blend file.\n",
        "\n",
        "___\n",
        "\n",
        "### Output settings\n",
        "\n",
        "* `download_type` : Select the type of download method. `gdrive_direct` enables the frames to be outputted directly to Google Drive (zipping will be disabled).\n",
        "\n",
        "* `output_name` : Name of the output frames, **do NOT include .blend!** (## for frame number)\n",
        "\n",
        "* `zip_files` : Archive multiple animation frames automatically into a zip file.\n",
        "\n",
        "* `drive_output_path` : Path to your frames/zip file in Google Drive.\n",
        "\n",
        "___\n",
        "\n",
        "### Rendering settings\n",
        "\n",
        "* `gpu_enabled, cpu_enabled` : Toggle GPU and CPU for rendering. CPU might give a slight boost in rendering time but may varies depend on the project.\n",
        "\n",
        "* `optix_enabled` : Enable OptiX which may boost performance, may be incompatible depending on the version of Blender, project and GPU allocated"
      ]
    },
    {
      "cell_type": "code",
      "execution_count": null,
      "metadata": {
        "id": "8dFNjYGTgNjR"
      },
      "outputs": [],
      "source": [
        "#@markdown ### General settings\n",
        "blender_version = '4.1.0' #@param ['2.79b', '2.83.20', '2.93.18', '3.3.17', '3.6.10', '4.1.0'] {allow-input: false}\n",
        "#@markdown ---\n",
        "#@markdown ### Blend file settings\n",
        "upload_type = 'url' #@param ['direct', 'google_drive', 'url', 'gdrive_relative'] {allow-input: false}\n",
        "drive_path = 'path/to/file' #@param {type: 'string'}\n",
        "url_blend = '' #@param {type: 'string'}\n",
        "#@markdown ---\n",
        "#@markdown ### Animation settings\n",
        "animation = False #@param {type: 'boolean'}\n",
        "start_frame =  1#@param {type: 'integer'}\n",
        "end_frame =  250#@param {type: 'integer'}\n",
        "#@markdown ---\n",
        "#@markdown ### Output settings\n",
        "download_type = 'gdrive_direct' #@param ['direct', 'google_drive', 'gdrive_direct'] {allow-input: false}\n",
        "output_name = 'blender-##' #@param {type: 'string'}\n",
        "zip_files = True #@param {type: 'boolean'}\n",
        "drive_output_path = 'blender/output' #@param {type: 'string'}\n",
        "#@markdown ---\n",
        "#@markdown ### Rendering settings\n",
        "gpu_enabled = True #@param {type:\"boolean\"}\n",
        "optix_enabled = True #@param {type:\"boolean\"}\n",
        "cpu_enabled = True #@param {type:\"boolean\"}"
      ]
    },
    {
      "cell_type": "markdown",
      "metadata": {},
      "source": [
        "## Check GPU compatibility\n",
        "\n",
        "Check if your GPU supports OptiX."
      ]
    },
    {
      "cell_type": "code",
      "execution_count": null,
      "metadata": {
        "id": "XQ0cynSzSYDd"
      },
      "outputs": [],
      "source": [
        "%cd /content\n",
        "\n",
        "gpu = !nvidia-smi --query-gpu=gpu_name --format=csv,noheader\n",
        "print(\"Current GPU: \" + gpu[0])\n",
        "\n",
        "if gpu[0] == \"Tesla K80\" and optix_enabled:\n",
        "  print(\"OptiX disabled because of unsupported GPU\")\n",
        "  optix_enabled = False"
      ]
    },
    {
      "cell_type": "code",
      "execution_count": null,
      "metadata": {
        "id": "pQboAtzI0Zc8"
      },
      "outputs": [],
      "source": []
    },
    {
      "cell_type": "markdown",
      "metadata": {},
      "source": [
        "## Download and proccess .blend (or .zip) file\n",
        "\n",
        "Before you run this part of the code, make sure you have uploaded your Blender Project to your Google Drive and selected it using the code block above.\n",
        "\n",
        "If you selected to use Google Drive, it will be authorized here."
      ]
    },
    {
      "cell_type": "code",
      "execution_count": null,
      "metadata": {
        "id": "QRzNmiHN8Xr0"
      },
      "outputs": [],
      "source": [
        "import shutil\n",
        "from google.colab import files, drive\n",
        "uploaded_filename = \"\"\n",
        "\n",
        "if upload_type == 'google_drive' or upload_type == 'gdrive_relative' or download_type == 'google_drive' or download_type == 'gdrive_direct':\n",
        "    drive.mount('/drive')\n",
        "\n",
        "if upload_type == 'direct':\n",
        "    uploaded = files.upload()\n",
        "    for fn in uploaded.keys():\n",
        "        uploaded_filename = fn\n",
        "elif upload_type == 'url':\n",
        "    !wget -nc $url_blend\n",
        "    uploaded_filename = os.path.basename(url_blend)\n",
        "elif upload_type == 'google_drive':\n",
        "    shutil.copy('/drive/My Drive/' + drive_path, '.')\n",
        "    uploaded_filename = os.path.basename(drive_path)\n",
        "\n",
        "!rm -r render\n",
        "!mkdir render\n",
        "\n",
        "if upload_type == 'gdrive_relative':\n",
        "    if not drive_path.endswith('/'):\n",
        "        drive_path += '/'\n",
        "    !cp -r '/drive/My Drive/{drive_path}.' 'render/'\n",
        "elif uploaded_filename.lower().endswith('.zip'):\n",
        "    !unzip -o $uploaded_filename -d 'render/'\n",
        "elif uploaded_filename.lower().endswith('.blend'):\n",
        "    shutil.copy(uploaded_filename, 'render/')\n",
        "    blend_file_path = uploaded_filename\n",
        "else:\n",
        "    raise SystemExit(\"Invalid file extension, only .blend and .zip can be uploaded.\")"
      ]
    },
    {
      "cell_type": "markdown",
      "metadata": {},
      "source": [
        "## Download and configure Blender\n",
        "\n",
        "To add your own new version, go to your prefered download mirror\n",
        "and copy the URL of the desired version linux-x64 tar archive.\n",
        "\n",
        "If you want to change the download mirror, just change the `download_mirror` variable.\n",
        "\n",
        "Then, either edit or add the version below and also at the version selection at the top.\n",
        "\n",
        "This cell will also reinstall a library which is needed for Blender to run."
      ]
    },
    {
      "cell_type": "code",
      "execution_count": null,
      "metadata": {
        "id": "GPJ9fmoB6PWM"
      },
      "outputs": [],
      "source": [
        "import os\n",
        "\n",
        "os.environ[\"LD_PRELOAD\"] = \"\"\n",
        "\n",
        "!apt remove libtcmalloc-minimal4\n",
        "!apt install libtcmalloc-minimal4\n",
        "\n",
        "os.environ[\"LD_PRELOAD\"] = \"/usr/lib/x86_64-linux-gnu/libtcmalloc_minimal.so.4.3.0\"\n",
        "\n",
        "download_mirror = \"https://ftp.nluug.nl/pub/graphics/blender/release\"\n",
        "blender_url_dict = {'2.79b':\"{download_mirror}/Blender2.79/blender-2.79b-linux-glibc219-x86_64.tar.bz2\",\n",
        "                    '2.83.20':\"{download_mirror}/release/Blender2.83/blender-2.83.20-linux-x64.tar.xz\",\n",
        "                    '2.93.18':\"{download_mirror}/release/Blender2.93/blender-2.93.18-linux-x64.tar.xz\",\n",
        "                    '3.3.17':\"{download_mirror}/release/Blender3.3/blender-3.3.17-linux-x64.tar.xz\",\n",
        "                    '3.6.10':\"{download_mirror}/release/Blender3.6/blender-3.6.10-linux-x64.tar.xz\",\n",
        "                    '4.1.0':\"{download_mirror}/release/Blender4.1/blender-4.1.0-linux-x64.tar.xz\"}\n",
        "\n",
        "blender_url = blender_url_dict[blender_version]\n",
        "base_url = os.path.basename(blender_url)\n",
        "\n",
        "!mkdir $blender_version\n",
        "!wget -nc $blender_url\n",
        "!tar -xkf $base_url -C ./$blender_version --strip-components=1\n",
        "\n",
        "# Enable GPU rendering (or add custom properties here)\n",
        "data = \"import re\\n\"+\\\n",
        "    \"import bpy\\n\"+\\\n",
        "    \"scene = bpy.context.scene\\n\"+\\\n",
        "    \"scene.cycles.device = 'GPU'\\n\"+\\\n",
        "    \"prefs = bpy.context.preferences\\n\"+\\\n",
        "    \"prefs.addons['cycles'].preferences.get_devices()\\n\"+\\\n",
        "    \"cprefs = prefs.addons['cycles'].preferences\\n\"+\\\n",
        "    \"print(cprefs)\\n\"+\\\n",
        "    \"for compute_device_type in ('CUDA', 'OPENCL', 'NONE'):\\n\"+\\\n",
        "    \"    try:\\n\"+\\\n",
        "    \"        cprefs.compute_device_type = compute_device_type\\n\"+\\\n",
        "    \"        print('Device found:',compute_device_type)\\n\"+\\\n",
        "    \"        break\\n\"+\\\n",
        "    \"    except TypeError:\\n\"+\\\n",
        "    \"        pass\\n\"+\\\n",
        "    \"for device in cprefs.devices:\\n\"+\\\n",
        "    \"    if not re.match('intel', device.name, re.I):\\n\"+\\\n",
        "    \"        print('Activating',device)\\n\"+\\\n",
        "    \"        device.use = \"+str(gpu_enabled)+\"\\n\"+\\\n",
        "    \"    else:\\n\"+\\\n",
        "    \"        device.use = \"+str(cpu_enabled)+\"\\n\"\n",
        "with open('setgpu.py', 'w') as f:\n",
        "    f.write(data)\n",
        "\n",
        "renderer = \"CUDA\"\n",
        "if optix_enabled:\n",
        "    print(\"Note: You're currently using OptiX renderer. If an error occurred, the current GPU (example: Tesla K80) is not supported and you need to switch back to Cycles.\")\n",
        "    renderer = \"OPTIX\""
      ]
    },
    {
      "cell_type": "markdown",
      "metadata": {},
      "source": [
        "## Start rendering\n",
        "\n",
        "All of the rendered frames will be saved to your Google Drive.\n",
        "\n",
        "If you want to download them all in a compressed zip file, take a look at [the next step](#download-rendered-images-as-zip)."
      ]
    },
    {
      "cell_type": "code",
      "execution_count": null,
      "metadata": {
        "id": "Fpk2w3yM8XqQ"
      },
      "outputs": [],
      "source": [
        "%cd /content\n",
        "\n",
        "!rm -r output\n",
        "!mkdir output\n",
        "\n",
        "if not drive_output_path.endswith('/'):\n",
        "    drive_output_path += '/'\n",
        "\n",
        "if download_type != 'gdrive_direct':\n",
        "    output_path = '/content/output/' + output_name\n",
        "else:\n",
        "    output_path = '/drive/My Drive/' + drive_output_path + output_name\n",
        "\n",
        "%cd /content/$blender_version\n",
        "\n",
        "if animation:\n",
        "    if start_frame == end_frame:\n",
        "        !./$blender_version/blender -b '/content/render/{blend_file_path}' -P setgpu.py -E CYCLES -o '{output_path}' -noaudio -a -- --cycles-device \"{renderer}\"\n",
        "    else:\n",
        "        !./$blender_version/blender -b '/content/render/{blend_file_path}' -P setgpu.py -E CYCLES -o '{output_path}' -noaudio -s $start_frame -e $end_frame -a -- --cycles-device \"{renderer}\"\n",
        "else:\n",
        "    !./$blender_version/blender -b '/content/render/{blend_file_path}' -P setgpu.py -E CYCLES -o '{output_path}' -noaudio -f $start_frame -- --cycles-device \"{renderer}\""
      ]
    },
    {
      "cell_type": "markdown",
      "metadata": {},
      "source": [
        "## Download rendered images as zip\n",
        "\n",
        "All images are saved in your Google Drive folder you specified above, but if you want to get them in a compressed format, run the code below."
      ]
    },
    {
      "cell_type": "code",
      "execution_count": null,
      "metadata": {
        "id": "IjN_CFwEIB6f"
      },
      "outputs": [],
      "source": [
        "%cd /content\n",
        "\n",
        "path, dirs, files_folder = next(os.walk(\"output\"))\n",
        "output_folder_name = output_name.replace('#', '') + 'render'\n",
        "\n",
        "if download_type == 'gdrive_direct':\n",
        "    pass\n",
        "elif len(files_folder) == 1:\n",
        "    render_img = 'output/' + files_folder[0]\n",
        "    if download_type == 'direct':\n",
        "        files.download('output/' + files_folder[0])\n",
        "    else:\n",
        "        shutil.copy('/content/' + render_img, '/drive/My Drive/' + drive_output_path)\n",
        "elif len(files_folder) > 1:\n",
        "    if zip_files:\n",
        "        shutil.make_archive(output_folder_name, 'zip', 'output')\n",
        "    if download_type == 'direct':\n",
        "        files.download(output_folder_name + '.zip')\n",
        "    else:\n",
        "        shutil.copy('/content/' + output_folder_name + \".zip\", '/drive/My Drive/' + drive_output_path)\n",
        "elif download_type == 'direct':\n",
        "    for f in files_folder:\n",
        "        files.download('output/{}'.format(f))\n",
        "    # Drive, no zip\n",
        "    else:\n",
        "        for f in files_folder:\n",
        "          shutil.copy(\"/content/output/\" + f, '/drive/My Drive/' + drive_output_path + f)\n",
        "else:\n",
        "    raise SystemExit(\"No frames were rendered.\")"
      ]
    },
    {
      "attachments": {},
      "cell_type": "markdown",
      "metadata": {
        "id": "IeNhVz4Uds_7"
      },
      "source": [
        "## Disclaimer\n",
        "Google Colab is targeted to researchers and students to run AI/ML tasks, data analysis and education, not rendering 3D scenes. Because the computing power provided are free, the usage limits, idle timeouts and speed of the rendering may varies time by time. [Colab Pro and Colab Pro+](https://colab.research.google.com/signup) are available for those who wanted to have more powerful GPU and longer runtimes for rendering. See the [FAQ](https://research.google.com/colaboratory/faq.html) for more info. In some cases, it might be faster to use an online Blender renderfarm."
      ]
    }
  ],
  "metadata": {
    "accelerator": "GPU",
    "colab": {
      "collapsed_sections": [],
      "name": "blender-render.ipynb",
      "provenance": [],
      "toc_visible": true
    },
    "kernelspec": {
      "display_name": "Python 3",
      "language": "python",
      "name": "python3"
    },
    "language_info": {
      "codemirror_mode": {
        "name": "ipython",
        "version": 3
      },
      "file_extension": ".py",
      "mimetype": "text/x-python",
      "name": "python",
      "nbconvert_exporter": "python",
      "pygments_lexer": "ipython3",
      "version": "3.7.4"
    }
  },
  "nbformat": 4,
  "nbformat_minor": 0
}
